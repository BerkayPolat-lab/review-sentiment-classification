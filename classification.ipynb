{
 "cells": [
  {
   "cell_type": "code",
   "execution_count": 2,
   "metadata": {},
   "outputs": [],
   "source": [
    "### Class Definitions\n",
    "\n",
    "import random\n",
    "\n",
    "class Sentiment:\n",
    "    NEGATIVE = 'NEGATIVE'\n",
    "    NEUTRAL = 'NEUTRAL'\n",
    "    POSITIVE = 'POSITIVE'\n",
    "\n",
    "class Review:\n",
    "    def __init__(self, text, score):\n",
    "        self.text = text\n",
    "        self.score = score\n",
    "        self.sentiment = self.get_sentiment()\n",
    "    \n",
    "    def get_sentiment(self):\n",
    "        if self.score <= 2:\n",
    "            return Sentiment.NEGATIVE\n",
    "        elif self.score == 3:\n",
    "            return Sentiment.NEUTRAL\n",
    "        else: ## Score of 4 and 5\n",
    "            return Sentiment.POSITIVE  \n",
    "\n",
    "\n",
    "class ReviewContainer:\n",
    "    def __init__(self, reviews):\n",
    "        self.reviews = reviews\n",
    "    def evenly_distribute(self):\n",
    "        negative = [x for x in self.reviews if x.sentiment == Sentiment.NEGATIVE]\n",
    "        positive = [x for x in self.reviews if x.sentiment == Sentiment.POSITIVE]\n",
    "        positive_shrunk = positive[:len(negative)]\n",
    "\n",
    "        self.reviews = negative + positive_shrunk\n",
    "        random.shuffle(self.reviews)\n",
    "        return self.reviews"
   ]
  },
  {
   "cell_type": "code",
   "execution_count": 10,
   "metadata": {
    "tags": [
     "Load Data"
    ]
   },
   "outputs": [
    {
     "name": "stdout",
     "output_type": "stream",
     "text": [
      "<class '__main__.Review'>\n"
     ]
    }
   ],
   "source": [
    "### Load Data\n",
    "\n",
    "import json\n",
    "\n",
    "file_name = './data/Books_small_10000.json'\n",
    "\n",
    "reviews = []\n",
    "\n",
    "with open(file_name) as f:\n",
    "    for line in f:\n",
    "        review = json.loads(line)\n",
    "        reviews.append(Review(review['reviewText'],review['overall']))\n",
    "\n",
    "\n",
    "\n",
    "print(type(reviews[5]))"
   ]
  },
  {
   "cell_type": "code",
   "execution_count": 12,
   "metadata": {},
   "outputs": [
    {
     "name": "stdout",
     "output_type": "stream",
     "text": [
      "6700\n",
      "3300\n",
      "872\n",
      "872\n"
     ]
    }
   ],
   "source": [
    "from sklearn.model_selection import train_test_split \n",
    "\n",
    "training, test = train_test_split(reviews, test_size=0.33, train_size=0.67, random_state=42, shuffle=True) ## splitting data into training and test sets\n",
    "\n",
    "print(len(training))\n",
    "print(len(test))\n",
    "\n",
    "train_container = ReviewContainer(training).evenly_distribute()  ## reducing the amount of positive reviews to equal to the number of the negative reviews in the training set.\n",
    "test_container = ReviewContainer(test).evenly_distribute() ## reducing the amount of positive reviews to equal to the number of the negative reviews in the test set.\n",
    "\n",
    "print(len(train_container))\n",
    "\n",
    "\n",
    "## Training Data\n",
    "x_train = [x.text for x in train_container] ## list comprehension -- storing the text of the reviews in the input set for training \n",
    "y_train = [y.sentiment for y in train_container] ## list comprehension -- storing the sentiment of the reviews in the output set for training\n",
    "\n",
    "print(len(x_train))\n",
    "\n",
    "\n",
    "## Test Data\n",
    "x_test = [x.text for x in test_container] ## list comprehension -- storing the text of the reviews in the input set for testing \n",
    "y_test = [y.sentiment for y in test_container] ## list comprehension -- storing the sentiment of the reviews in the output set for testing\n",
    "\n"
   ]
  },
  {
   "cell_type": "code",
   "execution_count": null,
   "metadata": {},
   "outputs": [
    {
     "name": "stdout",
     "output_type": "stream",
     "text": [
      "(872, 8906)\n",
      "(416, 8906)\n",
      "[[0 0 0 ... 0 0 0]]\n",
      "[[0 0 0 ... 0 0 0]]\n"
     ]
    }
   ],
   "source": [
    "from sklearn.feature_extraction.text import CountVectorizer\n",
    "vectorizer = CountVectorizer()\n",
    "\n",
    "train_x_vectors = vectorizer.fit_transform(x_train) ## creates a matrix, where each row is a review and the columns are the words in the training data. The values are the frequency of the words in the reviews.\n",
    "test_x_vectors = vectorizer.transform(x_test)\n",
    "\n",
    "print(train_x_vectors.shape)\n",
    "print(test_x_vectors.shape)\n",
    "print(train_x_vectors[0].toarray()) ## Prints out the frequency of the words in the first review in the training data.\n",
    "print(test_x_vectors[0].toarray()) ## Prints out the frequency of the words in the first review in the test data.\n",
    "\n",
    "#print(vectorizer.get_feature_names_out()) ## retrieves the words in the training data.\n",
    "#print(x_train[0])\n",
    "analyze = vectorizer.build_analyzer()\n",
    "#print(analyze(x_train[0]))\n",
    "\n",
    "\n",
    "#print(train_x_vectors.toarray())\n"
   ]
  },
  {
   "cell_type": "code",
   "execution_count": 14,
   "metadata": {},
   "outputs": [
    {
     "data": {
      "text/plain": [
       "array(['POSITIVE'], dtype='<U8')"
      ]
     },
     "execution_count": 14,
     "metadata": {},
     "output_type": "execute_result"
    }
   ],
   "source": [
    "### Classification -- Support Vector Machine\n",
    "\n",
    "from sklearn import svm\n",
    "\n",
    "clf_svm = svm.SVC(kernel='linear')\n",
    "\n",
    "clf_svm.fit(train_x_vectors, y_train)\n",
    "\n",
    "clf_svm.predict(test_x_vectors[0]) ## Sentiment prediction of the text at the 0th index.\n",
    "\n"
   ]
  },
  {
   "cell_type": "code",
   "execution_count": null,
   "metadata": {},
   "outputs": [],
   "source": []
  },
  {
   "cell_type": "code",
   "execution_count": null,
   "metadata": {},
   "outputs": [],
   "source": []
  },
  {
   "cell_type": "code",
   "execution_count": 17,
   "metadata": {},
   "outputs": [
    {
     "data": {
      "text/plain": [
       "array(['NEGATIVE'], dtype='<U8')"
      ]
     },
     "execution_count": 17,
     "metadata": {},
     "output_type": "execute_result"
    }
   ],
   "source": [
    "### Classification -- Decision Tree\n",
    "\n",
    "from sklearn.tree import DecisionTreeClassifier\n",
    "\n",
    "clf_dec = DecisionTreeClassifier()\n",
    "\n",
    "clf_dec.fit(train_x_vectors, y_train)\n",
    "\n",
    "clf_dec.predict(test_x_vectors[0])\n"
   ]
  },
  {
   "cell_type": "code",
   "execution_count": 16,
   "metadata": {},
   "outputs": [
    {
     "data": {
      "text/plain": [
       "array(['POSITIVE'], dtype='<U8')"
      ]
     },
     "execution_count": 16,
     "metadata": {},
     "output_type": "execute_result"
    }
   ],
   "source": [
    "### Classification -- Naive Bayes\n",
    "\n",
    "from sklearn.naive_bayes import GaussianNB\n",
    "\n",
    "clf_gnb = GaussianNB()\n",
    "\n",
    "clf_gnb.fit(train_x_vectors.toarray(), y_train)\n",
    "\n",
    "clf_gnb.predict(test_x_vectors[0].toarray())"
   ]
  },
  {
   "cell_type": "code",
   "execution_count": 18,
   "metadata": {},
   "outputs": [
    {
     "data": {
      "text/plain": [
       "array(['POSITIVE'], dtype='<U8')"
      ]
     },
     "execution_count": 18,
     "metadata": {},
     "output_type": "execute_result"
    }
   ],
   "source": [
    "### Classification -- Logistic Regression\n",
    "\n",
    "from sklearn.linear_model import LogisticRegression\n",
    "\n",
    "clf_log = LogisticRegression()\n",
    "\n",
    "clf_log.fit(train_x_vectors, y_train)\n",
    "\n",
    "clf_log.predict(test_x_vectors[0])"
   ]
  },
  {
   "cell_type": "code",
   "execution_count": 22,
   "metadata": {},
   "outputs": [
    {
     "name": "stdout",
     "output_type": "stream",
     "text": [
      "[0.8028169  0.79310345]\n",
      "[0.63461538 0.63461538]\n",
      "[0.59574468 0.66666667]\n",
      "[0.82325581 0.81094527]\n",
      "436\n"
     ]
    },
    {
     "data": {
      "text/plain": [
       "436"
      ]
     },
     "execution_count": 22,
     "metadata": {},
     "output_type": "execute_result"
    }
   ],
   "source": [
    "### Evaluation - Mean Accuracy\n",
    "\n",
    "#print(clf_svm.score(test_x_vectors, y_test))\n",
    "\n",
    "#print(clf_dec.score(test_x_vectors, y_test))\n",
    "\n",
    "#print(clf_gnb.score(test_x_vectors.toarray(), y_test))\n",
    "\n",
    "#print(clf_log.score(test_x_vectors, y_test))\n",
    "\n",
    "### F1 Scores\n",
    "\n",
    "from sklearn.metrics import f1_score\n",
    "\n",
    "print(f1_score(y_test, clf_svm.predict(test_x_vectors), average=None, labels=[Sentiment.POSITIVE, Sentiment.NEGATIVE]))\n",
    "print(f1_score(y_test, clf_dec.predict(test_x_vectors), average=None, labels=[Sentiment.POSITIVE, Sentiment.NEGATIVE]))\n",
    "print(f1_score(y_test, clf_gnb.predict(test_x_vectors.toarray()), average=None, labels=[Sentiment.POSITIVE, Sentiment.NEGATIVE]))\n",
    "print(f1_score(y_test, clf_log.predict(test_x_vectors), average=None, labels=[Sentiment.POSITIVE, Sentiment.NEGATIVE]))\n",
    "\n",
    "print(y_train.count(Sentiment.POSITIVE))\n",
    "y_train.count(Sentiment.NEGATIVE)\n"
   ]
  },
  {
   "cell_type": "code",
   "execution_count": null,
   "metadata": {},
   "outputs": [],
   "source": []
  },
  {
   "cell_type": "code",
   "execution_count": 20,
   "metadata": {},
   "outputs": [
    {
     "name": "stdout",
     "output_type": "stream",
     "text": [
      "208\n",
      "208\n"
     ]
    }
   ],
   "source": [
    "print(y_test.count(Sentiment.NEGATIVE))\n",
    "print(y_test.count(Sentiment.NEGATIVE))"
   ]
  }
 ],
 "metadata": {
  "kernelspec": {
   "display_name": "myenv",
   "language": "python",
   "name": "python3"
  },
  "language_info": {
   "codemirror_mode": {
    "name": "ipython",
    "version": 3
   },
   "file_extension": ".py",
   "mimetype": "text/x-python",
   "name": "python",
   "nbconvert_exporter": "python",
   "pygments_lexer": "ipython3",
   "version": "3.9.6"
  }
 },
 "nbformat": 4,
 "nbformat_minor": 2
}
